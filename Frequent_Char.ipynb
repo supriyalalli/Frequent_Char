{
  "nbformat": 4,
  "nbformat_minor": 0,
  "metadata": {
    "colab": {
      "provenance": []
    },
    "kernelspec": {
      "name": "python3",
      "display_name": "Python 3"
    },
    "language_info": {
      "name": "python"
    }
  },
  "cells": [
    {
      "cell_type": "code",
      "source": [],
      "metadata": {
        "id": "8P_ZHatfu6Nc"
      },
      "execution_count": null,
      "outputs": []
    },
    {
      "cell_type": "code",
      "source": [
        "def most_frequent_char(string):\n",
        "\n",
        "    counts = [0] * len(string)\n",
        "\n",
        "\n",
        "    for i in range(len(string)):\n",
        "        for j in range(len(string)):\n",
        "            if string[i] == string[j]:\n",
        "                counts[i] += 1\n",
        "\n",
        "    max_index = 0\n",
        "    for i in range(len(counts)):\n",
        "        if counts[i] > counts[max_index]:\n",
        "            max_index = i\n",
        "\n",
        "    return string[max_index]\n",
        "\n",
        "\n",
        "print(most_frequent_char(\"Rabbit\"))\n",
        "print(most_frequent_char(\"sandspace\"))\n"
      ],
      "metadata": {
        "id": "Yym7L9mY0xds"
      },
      "execution_count": null,
      "outputs": []
    }
  ]
}